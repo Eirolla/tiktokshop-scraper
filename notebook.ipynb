{
 "cells": [
  {
   "cell_type": "code",
   "execution_count": 13,
   "metadata": {},
   "outputs": [
    {
     "ename": "IndexError",
     "evalue": "list index out of range",
     "output_type": "error",
     "traceback": [
      "\u001b[0;31m---------------------------------------------------------------------------\u001b[0m",
      "\u001b[0;31mIndexError\u001b[0m                                Traceback (most recent call last)",
      "Cell \u001b[0;32mIn[13], line 10\u001b[0m\n\u001b[1;32m      7\u001b[0m url_2 \u001b[39m=\u001b[39m url_2[\u001b[39m0\u001b[39m]\u001b[39m.\u001b[39mvalues\u001b[39m.\u001b[39mtolist()\n\u001b[1;32m      8\u001b[0m result_2 \u001b[39m=\u001b[39m []\n\u001b[0;32m---> 10\u001b[0m [result_2\u001b[39m.\u001b[39mappend(x) \u001b[39mfor\u001b[39;00m x \u001b[39min\u001b[39;00m url_2[\u001b[39m0\u001b[39m] \u001b[39mif\u001b[39;00m x \u001b[39mnot\u001b[39;00m \u001b[39min\u001b[39;00m result_2[\u001b[39m0\u001b[39m]]\n\u001b[1;32m     11\u001b[0m df_result_2 \u001b[39m=\u001b[39m pd\u001b[39m.\u001b[39mDataFrame(result_2)\n\u001b[1;32m     12\u001b[0m df_result_2\u001b[39m.\u001b[39mto_csv(\u001b[39mf\u001b[39m\u001b[39m\"\u001b[39m\u001b[39m{\u001b[39;00mCATEGORY\u001b[39m}\u001b[39;00m\u001b[39m_clean_2.csv\u001b[39m\u001b[39m\"\u001b[39m, mode\u001b[39m=\u001b[39m\u001b[39m'\u001b[39m\u001b[39ma\u001b[39m\u001b[39m'\u001b[39m, index\u001b[39m=\u001b[39m\u001b[39mFalse\u001b[39;00m, header\u001b[39m=\u001b[39m\u001b[39mFalse\u001b[39;00m)\n",
      "Cell \u001b[0;32mIn[13], line 10\u001b[0m, in \u001b[0;36m<listcomp>\u001b[0;34m(.0)\u001b[0m\n\u001b[1;32m      7\u001b[0m url_2 \u001b[39m=\u001b[39m url_2[\u001b[39m0\u001b[39m]\u001b[39m.\u001b[39mvalues\u001b[39m.\u001b[39mtolist()\n\u001b[1;32m      8\u001b[0m result_2 \u001b[39m=\u001b[39m []\n\u001b[0;32m---> 10\u001b[0m [result_2\u001b[39m.\u001b[39mappend(x) \u001b[39mfor\u001b[39;00m x \u001b[39min\u001b[39;00m url_2[\u001b[39m0\u001b[39m] \u001b[39mif\u001b[39;00m x \u001b[39mnot\u001b[39;00m \u001b[39min\u001b[39;00m result_2[\u001b[39m0\u001b[39;49m]]\n\u001b[1;32m     11\u001b[0m df_result_2 \u001b[39m=\u001b[39m pd\u001b[39m.\u001b[39mDataFrame(result_2)\n\u001b[1;32m     12\u001b[0m df_result_2\u001b[39m.\u001b[39mto_csv(\u001b[39mf\u001b[39m\u001b[39m\"\u001b[39m\u001b[39m{\u001b[39;00mCATEGORY\u001b[39m}\u001b[39;00m\u001b[39m_clean_2.csv\u001b[39m\u001b[39m\"\u001b[39m, mode\u001b[39m=\u001b[39m\u001b[39m'\u001b[39m\u001b[39ma\u001b[39m\u001b[39m'\u001b[39m, index\u001b[39m=\u001b[39m\u001b[39mFalse\u001b[39;00m, header\u001b[39m=\u001b[39m\u001b[39mFalse\u001b[39;00m)\n",
      "\u001b[0;31mIndexError\u001b[0m: list index out of range"
     ]
    }
   ],
   "source": [
    "import requests\n",
    "import pandas as pd\n",
    "\n",
    "CATEGORY = \"Muslim fashion\"\n",
    "\n",
    "url_2 = pd.read_csv(f\"{CATEGORY}_clean.csv\", header=None)\n",
    "url_2 = url_2[0].values.tolist()\n",
    "result_2 = []\n",
    "\n",
    "[result_2.append(x) for x in url_2 if x not in result_2]\n",
    "df_result_2 = pd.DataFrame(result_2)\n",
    "df_result_2.to_csv(f\"{CATEGORY}_clean_2.csv\", mode='a', index=False, header=False)\n",
    "print(df_result_2)"
   ]
  }
 ],
 "metadata": {
  "kernelspec": {
   "display_name": "appium",
   "language": "python",
   "name": "python3"
  },
  "language_info": {
   "codemirror_mode": {
    "name": "ipython",
    "version": 3
   },
   "file_extension": ".py",
   "mimetype": "text/x-python",
   "name": "python",
   "nbconvert_exporter": "python",
   "pygments_lexer": "ipython3",
   "version": "3.10.4"
  },
  "orig_nbformat": 4,
  "vscode": {
   "interpreter": {
    "hash": "0b8d0220b6d8eee399d69fbe2bde05f8f24104e38df79b93a4e376a25fa434da"
   }
  }
 },
 "nbformat": 4,
 "nbformat_minor": 2
}

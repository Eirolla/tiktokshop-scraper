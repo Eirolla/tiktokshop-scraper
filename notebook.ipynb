{
 "cells": [
  {
   "cell_type": "code",
   "execution_count": 14,
   "metadata": {},
   "outputs": [
    {
     "name": "stdout",
     "output_type": "stream",
     "text": [
      "                                                     0\n",
      "0    https://www.tiktok.com/view/product/1729505125...\n",
      "1    https://www.tiktok.com/view/product/1729583627...\n",
      "2    https://www.tiktok.com/view/product/1729583417...\n",
      "3    https://www.tiktok.com/view/product/1729587656...\n",
      "4    https://www.tiktok.com/view/product/1729562338...\n",
      "..                                                 ...\n",
      "497  https://www.tiktok.com/view/product/1729386150...\n",
      "498  https://www.tiktok.com/view/product/1729417743...\n",
      "499  https://www.tiktok.com/view/product/1729495147...\n",
      "500  https://www.tiktok.com/view/product/1729418396...\n",
      "501  https://www.tiktok.com/view/product/1729383070...\n",
      "\n",
      "[502 rows x 1 columns]\n"
     ]
    }
   ],
   "source": [
    "import requests\n",
    "import pandas as pd\n",
    "\n",
    "CATEGORY = \"Muslim fashion\"\n",
    "\n",
    "url_2 = pd.read_csv(f\"{CATEGORY}_clean.csv\", header=None)\n",
    "url_2 = url_2[0].values.tolist()\n",
    "result_2 = []\n",
    "\n",
    "[result_2.append(x) for x in url_2 if x not in result_2]\n",
    "df_result_2 = pd.DataFrame(result_2)\n",
    "df_result_2.to_csv(f\"{CATEGORY}_clean_2.csv\", mode='a', index=False, header=False)\n",
    "print(df_result_2)"
   ]
  }
 ],
 "metadata": {
  "kernelspec": {
   "display_name": "appium",
   "language": "python",
   "name": "python3"
  },
  "language_info": {
   "codemirror_mode": {
    "name": "ipython",
    "version": 3
   },
   "file_extension": ".py",
   "mimetype": "text/x-python",
   "name": "python",
   "nbconvert_exporter": "python",
   "pygments_lexer": "ipython3",
   "version": "3.10.4"
  },
  "orig_nbformat": 4,
  "vscode": {
   "interpreter": {
    "hash": "0b8d0220b6d8eee399d69fbe2bde05f8f24104e38df79b93a4e376a25fa434da"
   }
  }
 },
 "nbformat": 4,
 "nbformat_minor": 2
}
